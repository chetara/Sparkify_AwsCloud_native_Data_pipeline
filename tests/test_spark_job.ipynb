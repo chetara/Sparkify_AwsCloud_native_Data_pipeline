{
 "cells": [
  {
   "cell_type": "code",
   "execution_count": 7,
   "id": "6036e1fb",
   "metadata": {},
   "outputs": [],
   "source": [
    "from pyspark.sql import SparkSession\n",
    "\n",
    "spark = SparkSession.builder \\\n",
    "    .appName(\"SparkifyETL_Test\") \\\n",
    "    .config(\"spark.jars.packages\", \"org.apache.hadoop:hadoop-aws:3.2.2,com.amazonaws:aws-java-sdk-bundle:1.11.563\") \\\n",
    "    .getOrCreate()\n",
    "\n",
    "hadoop_conf = spark._jsc.hadoopConfiguration()\n",
    "hadoop_conf.set(\"fs.s3a.aws.credentials.provider\", \"com.amazonaws.auth.profile.ProfileCredentialsProvider\")\n",
    "hadoop_conf.set(\"aws.profile\", \"default\")\n",
    "\n",
    "spark.sparkContext.setLogLevel(\"ERROR\")\n"
   ]
  },
  {
   "cell_type": "markdown",
   "id": "aed27040",
   "metadata": {},
   "source": [
    "Define Table Paths"
   ]
  },
  {
   "cell_type": "code",
   "execution_count": 8,
   "id": "08c155d0",
   "metadata": {},
   "outputs": [],
   "source": [
    "output_data = \"s3a://sparkify-datalake-aws/curated/\"\n",
    "\n",
    "songs_path = output_data + \"songs/\"\n",
    "artists_path = output_data + \"artists/\"\n",
    "users_path = output_data + \"users/\"\n",
    "time_path = output_data + \"time/\"\n",
    "songplays_path = output_data + \"songplays/\"\n"
   ]
  },
  {
   "cell_type": "markdown",
   "id": "00238a33",
   "metadata": {},
   "source": [
    "Load & Preview Each Table"
   ]
  },
  {
   "cell_type": "code",
   "execution_count": 9,
   "id": "97d4f1e0",
   "metadata": {},
   "outputs": [],
   "source": [
    "songs_df = spark.read.parquet(songs_path)\n",
    "artists_df = spark.read.parquet(artists_path)\n",
    "users_df = spark.read.parquet(users_path)\n",
    "time_df = spark.read.parquet(time_path)\n",
    "songplays_df = spark.read.parquet(songplays_path)\n"
   ]
  },
  {
   "cell_type": "code",
   "execution_count": 10,
   "id": "942b74ee",
   "metadata": {},
   "outputs": [
    {
     "name": "stdout",
     "output_type": "stream",
     "text": [
      "root\n",
      " |-- song_id: string (nullable = true)\n",
      " |-- title: string (nullable = true)\n",
      " |-- duration: double (nullable = true)\n",
      " |-- year: integer (nullable = true)\n",
      " |-- artist_id: string (nullable = true)\n",
      "\n",
      "root\n",
      " |-- artist_id: string (nullable = true)\n",
      " |-- name: string (nullable = true)\n",
      " |-- location: string (nullable = true)\n",
      " |-- latitude: double (nullable = true)\n",
      " |-- longitude: double (nullable = true)\n",
      "\n",
      "root\n",
      " |-- user_id: string (nullable = true)\n",
      " |-- first_name: string (nullable = true)\n",
      " |-- last_name: string (nullable = true)\n",
      " |-- gender: string (nullable = true)\n",
      " |-- level: string (nullable = true)\n",
      "\n",
      "root\n",
      " |-- start_time: timestamp (nullable = true)\n",
      " |-- hour: integer (nullable = true)\n",
      " |-- day: integer (nullable = true)\n",
      " |-- week: integer (nullable = true)\n",
      " |-- weekday: integer (nullable = true)\n",
      " |-- year: integer (nullable = true)\n",
      " |-- month: integer (nullable = true)\n",
      "\n",
      "root\n",
      " |-- start_time: timestamp (nullable = true)\n",
      " |-- user_id: string (nullable = true)\n",
      " |-- level: string (nullable = true)\n",
      " |-- song_id: string (nullable = true)\n",
      " |-- artist_id: string (nullable = true)\n",
      " |-- session_id: long (nullable = true)\n",
      " |-- location: string (nullable = true)\n",
      " |-- user_agent: string (nullable = true)\n",
      " |-- songplay_id: long (nullable = true)\n",
      " |-- year: integer (nullable = true)\n",
      " |-- month: integer (nullable = true)\n",
      "\n"
     ]
    }
   ],
   "source": [
    "# Show schemas\n",
    "songs_df.printSchema()\n",
    "artists_df.printSchema()\n",
    "users_df.printSchema()\n",
    "time_df.printSchema()\n",
    "songplays_df.printSchema()\n"
   ]
  },
  {
   "cell_type": "code",
   "execution_count": null,
   "id": "dc3f2b82",
   "metadata": {},
   "outputs": [
    {
     "name": "stdout",
     "output_type": "stream",
     "text": [
      "+------------------+--------------------+---------+----+------------------+\n",
      "|           song_id|               title| duration|year|         artist_id|\n",
      "+------------------+--------------------+---------+----+------------------+\n",
      "|SOAOIBZ12AB01815BE|I Hold Your Hand ...| 43.36281|2000|ARPBNLO1187FB3D52F|\n",
      "|SONYPOM12A8C13B2D7|I Think My Wife I...|186.48771|2005|ARDNS031187B9924F0|\n",
      "|SODREIN12A58A7F2E5|A Whiter Shade Of...|326.00771|   0|ARLTWXK1187FB5A3F8|\n",
      "|SOYMRWW12A6D4FAB14|The Moon And I (O...| 267.7024|   0|ARKFYS91187B98E58F|\n",
      "|SOWQTQZ12A58A7B63E|Streets On Fire (...|279.97995|   0|ARPFHN61187FB575F6|\n",
      "+------------------+--------------------+---------+----+------------------+\n",
      "only showing top 5 rows\n",
      "\n",
      "+-------+----------+---------+------+-----+\n",
      "|user_id|first_name|last_name|gender|level|\n",
      "+-------+----------+---------+------+-----+\n",
      "|     97|      Kate|  Harrell|     F| paid|\n",
      "|     26|      Ryan|    Smith|     M| free|\n",
      "|     43|    Jahiem|    Miles|     M| free|\n",
      "|     63|      Ayla|  Johnson|     F| free|\n",
      "|     35|     Molly|   Taylor|     F| free|\n",
      "+-------+----------+---------+------+-----+\n",
      "only showing top 5 rows\n",
      "\n",
      "+-------------------+-------+-----+-------+---------+----------+--------------------+--------------------+-----------+----+-----+\n",
      "|         start_time|user_id|level|song_id|artist_id|session_id|            location|          user_agent|songplay_id|year|month|\n",
      "+-------------------+-------+-----+-------+---------+----------+--------------------+--------------------+-----------+----+-----+\n",
      "|2018-11-14 19:30:26|     26| free|   NULL|     NULL|       583|San Jose-Sunnyval...|\"Mozilla/5.0 (X11...|          0|2018|   11|\n",
      "|2018-11-14 19:41:21|     26| free|   NULL|     NULL|       583|San Jose-Sunnyval...|\"Mozilla/5.0 (X11...|          1|2018|   11|\n",
      "|2018-11-14 19:45:41|     26| free|   NULL|     NULL|       583|San Jose-Sunnyval...|\"Mozilla/5.0 (X11...|          2|2018|   11|\n",
      "|2018-11-14 22:44:09|     61| free|   NULL|     NULL|       597|Houston-The Woodl...|\"Mozilla/5.0 (Mac...|          3|2018|   11|\n",
      "|2018-11-15 00:48:55|     80| paid|   NULL|     NULL|       602|Portland-South Po...|\"Mozilla/5.0 (Mac...|          4|2018|   11|\n",
      "+-------------------+-------+-----+-------+---------+----------+--------------------+--------------------+-----------+----+-----+\n",
      "only showing top 5 rows\n",
      "\n"
     ]
    }
   ],
   "source": [
    "# Preview rows\n",
    "songs_df.show(5)\n",
    "artists_df.show(5)\n",
    "users_df.show(5)\n",
    "time_df.show(5)\n",
    "songplays_df.show(5)\n"
   ]
  },
  {
   "cell_type": "markdown",
   "id": "d2c0e423",
   "metadata": {},
   "source": [
    "Basic Validations"
   ]
  },
  {
   "cell_type": "code",
   "execution_count": 14,
   "id": "ca09b628",
   "metadata": {},
   "outputs": [
    {
     "name": "stdout",
     "output_type": "stream",
     "text": [
      "🎵 Songs: 71\n",
      "🎨 Artists: 69\n",
      "👥 Users: 104\n",
      "⏰ Time: 6813\n",
      "▶️ Songplays: 6820\n"
     ]
    }
   ],
   "source": [
    "# Check row counts\n",
    "print(\"🎵 Songs:\", songs_df.count())\n",
    "print(\"🎨 Artists:\", artists_df.count())\n",
    "print(\"👥 Users:\", users_df.count())\n",
    "print(\"⏰ Time:\", time_df.count())\n",
    "print(\"▶️ Songplays:\", songplays_df.count())\n"
   ]
  },
  {
   "cell_type": "markdown",
   "id": "20e4f474",
   "metadata": {},
   "source": [
    "Quick Analytics\n"
   ]
  },
  {
   "cell_type": "code",
   "execution_count": 15,
   "id": "e5434133",
   "metadata": {},
   "outputs": [
    {
     "name": "stdout",
     "output_type": "stream",
     "text": [
      "+------------------+-----+\n",
      "|           song_id|count|\n",
      "+------------------+-----+\n",
      "|              NULL| 6816|\n",
      "|SOGDBUF12A8C140FAA|    3|\n",
      "|SOZCTXZ12AB0182364|    1|\n",
      "+------------------+-----+\n",
      "\n",
      "+-------+-----+\n",
      "|user_id|count|\n",
      "+-------+-----+\n",
      "|     49|  689|\n",
      "|     80|  665|\n",
      "|     97|  557|\n",
      "|     15|  463|\n",
      "|     44|  397|\n",
      "|     29|  346|\n",
      "|     24|  321|\n",
      "|     73|  289|\n",
      "|     88|  270|\n",
      "|     36|  248|\n",
      "+-------+-----+\n",
      "only showing top 10 rows\n",
      "\n",
      "+----+-----+\n",
      "|hour|count|\n",
      "+----+-----+\n",
      "|   0|  157|\n",
      "|   1|  189|\n",
      "|   2|  179|\n",
      "|   3|  207|\n",
      "|   4|  253|\n",
      "|   5|  314|\n",
      "|   6|  322|\n",
      "|   7|  314|\n",
      "|   8|  330|\n",
      "|   9|  442|\n",
      "|  10|  470|\n",
      "|  11|  517|\n",
      "|  12|  490|\n",
      "|  13|  506|\n",
      "|  14|  385|\n",
      "|  15|  367|\n",
      "|  16|  271|\n",
      "|  17|  229|\n",
      "|  18|  200|\n",
      "|  19|  156|\n",
      "+----+-----+\n",
      "only showing top 20 rows\n",
      "\n"
     ]
    }
   ],
   "source": [
    "# Most played songs\n",
    "songplays_df.groupBy(\"song_id\").count().orderBy(\"count\", ascending=False).show(10)\n",
    "\n",
    "# Top users\n",
    "songplays_df.groupBy(\"user_id\").count().orderBy(\"count\", ascending=False).show(10)\n",
    "\n",
    "# Plays by time of day\n",
    "time_df.groupBy(\"hour\").count().orderBy(\"hour\").show()\n"
   ]
  }
 ],
 "metadata": {
  "kernelspec": {
   "display_name": "Python 3",
   "language": "python",
   "name": "python3"
  },
  "language_info": {
   "codemirror_mode": {
    "name": "ipython",
    "version": 3
   },
   "file_extension": ".py",
   "mimetype": "text/x-python",
   "name": "python",
   "nbconvert_exporter": "python",
   "pygments_lexer": "ipython3",
   "version": "3.11.9"
  }
 },
 "nbformat": 4,
 "nbformat_minor": 5
}
